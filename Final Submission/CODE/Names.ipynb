{
 "cells": [
  {
   "cell_type": "markdown",
   "metadata": {},
   "source": [
    "# Packages"
   ]
  },
  {
   "cell_type": "code",
   "execution_count": 1,
   "metadata": {},
   "outputs": [],
   "source": [
    "import numpy as np\n",
    "import pandas as pd\n",
    "import requests"
   ]
  },
  {
   "cell_type": "markdown",
   "metadata": {},
   "source": [
    "# Secrets\n",
    "You will need a Google API key stored in the file referenced below to actually run the API calls.  I will provide a copy of the file output by this code."
   ]
  },
  {
   "cell_type": "code",
   "execution_count": 2,
   "metadata": {},
   "outputs": [],
   "source": [
    "with open('../secrets_dva_project.txt') as f:\n",
    "    API_KEY = f.read().strip()"
   ]
  },
  {
   "cell_type": "markdown",
   "metadata": {},
   "source": [
    "# Variables"
   ]
  },
  {
   "cell_type": "code",
   "execution_count": 3,
   "metadata": {},
   "outputs": [],
   "source": [
    "dataFolderName = \"UberData\"    # The name of the subfolder the data is stored in.  Used to construct relative file path.\n",
    "debug = True # Do you want debugging messages?"
   ]
  },
  {
   "cell_type": "markdown",
   "metadata": {},
   "source": [
    "# API Call Function"
   ]
  },
  {
   "cell_type": "code",
   "execution_count": 4,
   "metadata": {},
   "outputs": [],
   "source": [
    "def get_address_from_lat_lng(latitude, longitude):\n",
    "    response = requests.get(f'https://maps.googleapis.com/maps/api/geocode/json?latlng={latitude},{longitude}&key={API_KEY}')\n",
    "\n",
    "    if response.status_code == 200:\n",
    "        data = response.json()\n",
    "        if 'results' in data and len(data['results']) > 0:\n",
    "            #return data['results'][0]['formatted_address']\n",
    "            return data\n",
    "    else:\n",
    "        print(\"Non 200 Status:\")\n",
    "        print(\"Code:\", response.status_code)\n",
    "        print(\"Reason:\", response.reason)\n",
    "\n",
    "    return None            "
   ]
  },
  {
   "cell_type": "markdown",
   "metadata": {},
   "source": [
    "# API Results Parse Function"
   ]
  },
  {
   "cell_type": "code",
   "execution_count": 5,
   "metadata": {},
   "outputs": [],
   "source": [
    "def parse_address(data):\n",
    "    addrDict = {}\n",
    "\n",
    "    haveStreetNo = False\n",
    "    haveStreetNm = False\n",
    "    haveLocality = False\n",
    "    haveCounty   = False\n",
    "    haveState    = False\n",
    "    haveCountry  = False\n",
    "    havePostal   = False\n",
    "    \n",
    "    if 'results' in data and len(data['results']) > 0:\n",
    "        #return data['results'][0]['formatted_address']\n",
    "        #return data['results'][0]['address_components']\n",
    "\n",
    "        # loop the results\n",
    "        for res in data['results']:\n",
    "            # loop address_components\n",
    "            # If we already have this component type, skip it\n",
    "            for comp in res['address_components']:\n",
    "                if 'street_number' in comp['types'] and not haveStreetNo:\n",
    "                    if debug: print('street_number:', comp[\"short_name\"])\n",
    "                    addrDict[\"street_number\"] = comp[\"short_name\"]\n",
    "                    haveStreetNo = True\n",
    "\n",
    "                if 'route' in comp['types'] and not haveStreetNm:\n",
    "                    if debug: print('street_name:', comp[\"short_name\"])\n",
    "                    addrDict[\"street_name\"] = comp[\"short_name\"]\n",
    "                    haveStreetNm = True\n",
    "\n",
    "                if 'locality' in comp['types'] and not haveLocality:\n",
    "                    if debug: print('locality:', comp[\"short_name\"])\n",
    "                    addrDict[\"locality\"] = comp[\"short_name\"]\n",
    "                    haveLocality = True\n",
    "\n",
    "                if 'administrative_area_level_2' in comp['types'] and not haveCounty:\n",
    "                    if debug: print('county:', comp[\"short_name\"])\n",
    "                    addrDict[\"county\"] = comp[\"short_name\"]\n",
    "                    haveCounty = True\n",
    "\n",
    "                if 'administrative_area_level_1' in comp['types'] and not haveState:\n",
    "                    if debug: print('state:', comp[\"long_name\"], comp[\"short_name\"])\n",
    "                    addrDict[\"state_short\"] = comp[\"short_name\"]\n",
    "                    addrDict[\"state_long\"] = comp[\"long_name\"]\n",
    "                    haveState = True\n",
    "\n",
    "                if 'country' in comp['types'] and not haveCountry:\n",
    "                    if debug: print('country:', comp[\"long_name\"], comp[\"short_name\"])\n",
    "                    addrDict[\"country\"] = comp[\"short_name\"]\n",
    "                    addrDict[\"country\"] = comp[\"long_name\"]\n",
    "                    haveCountry = True\n",
    "\n",
    "                if 'postal_code' in comp['types'] and not havePostal:\n",
    "                    if debug: print('postal_code:', comp[\"short_name\"])\n",
    "                    addrDict[\"postal_code\"] = comp[\"short_name\"]\n",
    "                    havePostal = True\n",
    "        \n",
    "            # If we have them all, break the loop\n",
    "            if haveStreetNo and haveStreetNm and haveLocality and haveCounty and haveState and haveCountry and havePostal:\n",
    "                break\n",
    "\n",
    "        return addrDict\n",
    "    \n",
    "    return None"
   ]
  },
  {
   "cell_type": "markdown",
   "metadata": {},
   "source": [
    "# Example Call"
   ]
  },
  {
   "cell_type": "code",
   "execution_count": 6,
   "metadata": {},
   "outputs": [
    {
     "name": "stdout",
     "output_type": "stream",
     "text": [
      "street_number: P1600\n",
      "street_name: Amphitheatre Pkwy\n",
      "locality: Mountain View\n",
      "county: Santa Clara County\n",
      "state: California CA\n",
      "country: United States US\n",
      "postal_code: 94043\n",
      "The address corresponding to the given latitude and longitude is:\n",
      "P1600 Amphitheatre Pkwy\n",
      "Mountain View, CA 94043\n"
     ]
    }
   ],
   "source": [
    "\n",
    "# Replace with your latitude and longitude\n",
    "latitude = 37.4219999\n",
    "longitude = -122.0840575\n",
    "\n",
    "address = parse_address(get_address_from_lat_lng(latitude, longitude))\n",
    "if address is not None:\n",
    "    print('The address corresponding to the given latitude and longitude is:' + \"\\n\" + \\\n",
    "          f'{address[\"street_number\"]} {address[\"street_name\"]}' + '\\n' + \\\n",
    "          f'{address[\"locality\"]}, {address[\"state_short\"]} {address[\"postal_code\"]}')\n",
    "else:\n",
    "    print('Could not find an address for the given latitude and longitude')"
   ]
  },
  {
   "cell_type": "markdown",
   "metadata": {},
   "source": [
    "# File Read"
   ]
  },
  {
   "cell_type": "code",
   "execution_count": 7,
   "metadata": {},
   "outputs": [],
   "source": [
    "fileName = \"data_location_20231128_200050.csv\"\n",
    "#filePath = dataFolderName +\"\\\\\"+ fileName\n",
    "filePath = fileName\n",
    "df_latlon = pd.read_csv(filePath)\n",
    "df_latlon = df_latlon[[\"idloc\",\"lat\",\"lon\"]]"
   ]
  },
  {
   "cell_type": "code",
   "execution_count": 8,
   "metadata": {},
   "outputs": [
    {
     "data": {
      "text/html": [
       "<div>\n",
       "<style scoped>\n",
       "    .dataframe tbody tr th:only-of-type {\n",
       "        vertical-align: middle;\n",
       "    }\n",
       "\n",
       "    .dataframe tbody tr th {\n",
       "        vertical-align: top;\n",
       "    }\n",
       "\n",
       "    .dataframe thead th {\n",
       "        text-align: right;\n",
       "    }\n",
       "</style>\n",
       "<table border=\"1\" class=\"dataframe\">\n",
       "  <thead>\n",
       "    <tr style=\"text-align: right;\">\n",
       "      <th></th>\n",
       "      <th>idloc</th>\n",
       "      <th>lat</th>\n",
       "      <th>lon</th>\n",
       "    </tr>\n",
       "  </thead>\n",
       "  <tbody>\n",
       "    <tr>\n",
       "      <th>0</th>\n",
       "      <td>1</td>\n",
       "      <td>33.754193</td>\n",
       "      <td>-84.066023</td>\n",
       "    </tr>\n",
       "    <tr>\n",
       "      <th>1</th>\n",
       "      <td>76</td>\n",
       "      <td>33.835545</td>\n",
       "      <td>-84.158713</td>\n",
       "    </tr>\n",
       "  </tbody>\n",
       "</table>\n",
       "</div>"
      ],
      "text/plain": [
       "   idloc        lat        lon\n",
       "0      1  33.754193 -84.066023\n",
       "1     76  33.835545 -84.158713"
      ]
     },
     "execution_count": 8,
     "metadata": {},
     "output_type": "execute_result"
    }
   ],
   "source": [
    "df_latlon"
   ]
  },
  {
   "cell_type": "markdown",
   "metadata": {},
   "source": [
    "# Process File"
   ]
  },
  {
   "cell_type": "code",
   "execution_count": 9,
   "metadata": {},
   "outputs": [],
   "source": [
    "debug = False\n",
    "\n",
    "names = list()\n",
    "\n",
    "for row in df_latlon.itertuples(index=False):\n",
    "    if debug and row.idloc > 5: break\n",
    "\n",
    "    if debug: print(row)\n",
    "    address = parse_address(get_address_from_lat_lng(row.lat, row.lon))\n",
    "    addr = {}\n",
    "    addr[\"idloc\"] = row.idloc\n",
    "    #if 'street_number' in address: addr['street_number'] = address['street_number'] else: addr['street_number'] = ''\n",
    "    \n",
    "    addr[\"street_number\"] = address.get(\"street_number\",\"\")\n",
    "    addr[\"street_name\"] = address.get(\"street_name\",\"\")\n",
    "    addr[\"locality\"] = address.get(\"locality\",\"\")\n",
    "    addr[\"state_short\"] = address.get(\"state_short\",\"\")\n",
    "    addr[\"state_long\"] = address.get(\"state_long\",\"\")\n",
    "    addr[\"postal_code\"] = address.get(\"postal_code\",\"\")\n",
    "    \n",
    "    names.append(addr)\n",
    "\n",
    "if debug: print(names)\n",
    "\n",
    "df_names = pd.DataFrame(names)\n",
    "if debug: print(df_names)"
   ]
  },
  {
   "cell_type": "code",
   "execution_count": 10,
   "metadata": {},
   "outputs": [
    {
     "data": {
      "text/html": [
       "<div>\n",
       "<style scoped>\n",
       "    .dataframe tbody tr th:only-of-type {\n",
       "        vertical-align: middle;\n",
       "    }\n",
       "\n",
       "    .dataframe tbody tr th {\n",
       "        vertical-align: top;\n",
       "    }\n",
       "\n",
       "    .dataframe thead th {\n",
       "        text-align: right;\n",
       "    }\n",
       "</style>\n",
       "<table border=\"1\" class=\"dataframe\">\n",
       "  <thead>\n",
       "    <tr style=\"text-align: right;\">\n",
       "      <th></th>\n",
       "      <th>idloc</th>\n",
       "      <th>street_number</th>\n",
       "      <th>street_name</th>\n",
       "      <th>locality</th>\n",
       "      <th>state_short</th>\n",
       "      <th>state_long</th>\n",
       "      <th>postal_code</th>\n",
       "    </tr>\n",
       "  </thead>\n",
       "  <tbody>\n",
       "    <tr>\n",
       "      <th>0</th>\n",
       "      <td>1</td>\n",
       "      <td>1990</td>\n",
       "      <td>Rock Mountain Rd</td>\n",
       "      <td>Stonecrest</td>\n",
       "      <td>GA</td>\n",
       "      <td>Georgia</td>\n",
       "      <td>30058</td>\n",
       "    </tr>\n",
       "    <tr>\n",
       "      <th>1</th>\n",
       "      <td>76</td>\n",
       "      <td>1829</td>\n",
       "      <td>Tilling Way</td>\n",
       "      <td>Stone Mountain</td>\n",
       "      <td>GA</td>\n",
       "      <td>Georgia</td>\n",
       "      <td>30087</td>\n",
       "    </tr>\n",
       "  </tbody>\n",
       "</table>\n",
       "</div>"
      ],
      "text/plain": [
       "   idloc street_number       street_name        locality state_short  \\\n",
       "0      1          1990  Rock Mountain Rd      Stonecrest          GA   \n",
       "1     76          1829       Tilling Way  Stone Mountain          GA   \n",
       "\n",
       "  state_long postal_code  \n",
       "0    Georgia       30058  \n",
       "1    Georgia       30087  "
      ]
     },
     "execution_count": 10,
     "metadata": {},
     "output_type": "execute_result"
    }
   ],
   "source": [
    "df_names"
   ]
  },
  {
   "cell_type": "code",
   "execution_count": 11,
   "metadata": {},
   "outputs": [],
   "source": [
    "# write file\n",
    "from datetime import datetime\n",
    "strnow = datetime.now().strftime(\"%Y%m%d_%H%M%S\")\n",
    "filename = \"data_names_\" + strnow + \".csv\"\n",
    "df_names.to_csv(filename, index=False)"
   ]
  },
  {
   "cell_type": "markdown",
   "metadata": {},
   "source": [
    "# Test Function Call"
   ]
  },
  {
   "cell_type": "code",
   "execution_count": 14,
   "metadata": {},
   "outputs": [
    {
     "data": {
      "text/plain": [
       "{'locality': 'Stonecrest',\n",
       " 'county': 'Dekalb County',\n",
       " 'state_short': 'GA',\n",
       " 'state_long': 'Georgia',\n",
       " 'country': 'United States',\n",
       " 'street_name': 'Rock Mountain Rd',\n",
       " 'postal_code': '30058',\n",
       " 'street_number': '1990'}"
      ]
     },
     "metadata": {},
     "output_type": "display_data"
    }
   ],
   "source": [
    "lat = 33.7541928\n",
    "lon = -84.0660228\n",
    "dat = get_address_from_lat_lng(lat,lon)\n",
    "res = parse_address(dat)\n",
    "display(res)"
   ]
  }
 ],
 "metadata": {
  "kernelspec": {
   "display_name": "Python 3",
   "language": "python",
   "name": "python3"
  },
  "language_info": {
   "codemirror_mode": {
    "name": "ipython",
    "version": 3
   },
   "file_extension": ".py",
   "mimetype": "text/x-python",
   "name": "python",
   "nbconvert_exporter": "python",
   "pygments_lexer": "ipython3",
   "version": "3.12.0"
  }
 },
 "nbformat": 4,
 "nbformat_minor": 2
}
